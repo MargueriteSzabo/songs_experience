{
 "cells": [
  {
   "cell_type": "code",
   "execution_count": 1,
   "metadata": {},
   "outputs": [],
   "source": [
    "import numpy as np\n",
    "import pandas as pd\n",
    "import seaborn as sns\n",
    "import matplotlib.pyplot as plt\n",
    "from math import floor\n",
    "import sqlite3"
   ]
  },
  {
   "cell_type": "code",
   "execution_count": 2,
   "metadata": {
    "scrolled": true
   },
   "outputs": [
    {
     "name": "stderr",
     "output_type": "stream",
     "text": [
      "/var/folders/zv/bsnwz7hn4cnf8q781vd6sc1w0000gn/T/ipykernel_17451/149047549.py:17: SettingWithCopyWarning: \n",
      "A value is trying to be set on a copy of a slice from a DataFrame\n",
      "\n",
      "See the caveats in the documentation: https://pandas.pydata.org/pandas-docs/stable/user_guide/indexing.html#returning-a-view-versus-a-copy\n",
      "  songs.ArtistName[index] = songs.ArtistName[index].lstrip(\"b'\").rstrip(\"'\")\n",
      "/var/folders/zv/bsnwz7hn4cnf8q781vd6sc1w0000gn/T/ipykernel_17451/149047549.py:18: SettingWithCopyWarning: \n",
      "A value is trying to be set on a copy of a slice from a DataFrame\n",
      "\n",
      "See the caveats in the documentation: https://pandas.pydata.org/pandas-docs/stable/user_guide/indexing.html#returning-a-view-versus-a-copy\n",
      "  songs.SongID[index] = songs.SongID[index].lstrip(\"b'\").rstrip(\"'\")\n",
      "/var/folders/zv/bsnwz7hn4cnf8q781vd6sc1w0000gn/T/ipykernel_17451/149047549.py:19: SettingWithCopyWarning: \n",
      "A value is trying to be set on a copy of a slice from a DataFrame\n",
      "\n",
      "See the caveats in the documentation: https://pandas.pydata.org/pandas-docs/stable/user_guide/indexing.html#returning-a-view-versus-a-copy\n",
      "  songs.AlbumName[index] = songs.AlbumName[index].lstrip(\"b'\").rstrip(\"'\").rstrip('\"')\n",
      "/var/folders/zv/bsnwz7hn4cnf8q781vd6sc1w0000gn/T/ipykernel_17451/149047549.py:20: SettingWithCopyWarning: \n",
      "A value is trying to be set on a copy of a slice from a DataFrame\n",
      "\n",
      "See the caveats in the documentation: https://pandas.pydata.org/pandas-docs/stable/user_guide/indexing.html#returning-a-view-versus-a-copy\n",
      "  songs.ArtistID[index] = songs.ArtistID[index].lstrip(\"b'\").rstrip(\"'\")\n",
      "/var/folders/zv/bsnwz7hn4cnf8q781vd6sc1w0000gn/T/ipykernel_17451/149047549.py:21: SettingWithCopyWarning: \n",
      "A value is trying to be set on a copy of a slice from a DataFrame\n",
      "\n",
      "See the caveats in the documentation: https://pandas.pydata.org/pandas-docs/stable/user_guide/indexing.html#returning-a-view-versus-a-copy\n",
      "  songs.ArtistLocation[index] = songs.ArtistLocation[index].lstrip(\"b'\").rstrip(\"'\")\n",
      "/var/folders/zv/bsnwz7hn4cnf8q781vd6sc1w0000gn/T/ipykernel_17451/149047549.py:22: SettingWithCopyWarning: \n",
      "A value is trying to be set on a copy of a slice from a DataFrame\n",
      "\n",
      "See the caveats in the documentation: https://pandas.pydata.org/pandas-docs/stable/user_guide/indexing.html#returning-a-view-versus-a-copy\n",
      "  songs.Title[index] = songs.Title[index].lstrip(\"b'\").rstrip(\"'\")\n",
      "/var/folders/zv/bsnwz7hn4cnf8q781vd6sc1w0000gn/T/ipykernel_17451/149047549.py:23: SettingWithCopyWarning: \n",
      "A value is trying to be set on a copy of a slice from a DataFrame\n",
      "\n",
      "See the caveats in the documentation: https://pandas.pydata.org/pandas-docs/stable/user_guide/indexing.html#returning-a-view-versus-a-copy\n",
      "  songs.Track_ID[index] = songs.Track_ID[index].lstrip(\"b'\").rstrip(\"'\")\n"
     ]
    }
   ],
   "source": [
    "songs = pd.read_csv('SongCSV.csv', decimal =',')\n",
    "songs.drop(columns = [\"Segments_nb\",\"Sections_nb\",\"Beats_nb\",\"Bars_nb\",\"Tatums_nb\"], inplace = True)\n",
    "songs.set_index(\"SongNumber\", inplace = True)\n",
    "\n",
    "songs[\"Song_Hotness\"] = songs[\"Song_Hotness\"].astype(float)\n",
    "songs[\"Danceability\"] = songs[\"Danceability\"].astype(float)\n",
    "songs[\"Loudness\"] = songs[\"Loudness\"].astype(float)\n",
    "songs[\"ArtistLatitude\"] = songs[\"ArtistLatitude\"].astype(float)\n",
    "songs[\"ArtistLongitude\"] = songs[\"ArtistLongitude\"].astype(float)\n",
    "songs[\"Tempo\"] = songs[\"Tempo\"].astype(float)\n",
    "songs[\"Duration\"] = songs[\"Duration\"].astype(float)\n",
    "songs[\"Artist_Familiarity\"] = songs[\"Artist_Familiarity\"].astype(float)\n",
    "songs[\"Artist_Hotness\"] = songs[\"Artist_Hotness\"].astype(float)\n",
    "songs[\"Artist_Terms\"] = songs[\"Artist_Terms\"].astype(float)\n",
    "\n",
    "for index, row in songs.iterrows():\n",
    "    songs.ArtistName[index] = songs.ArtistName[index].lstrip(\"b'\").rstrip(\"'\")\n",
    "    songs.SongID[index] = songs.SongID[index].lstrip(\"b'\").rstrip(\"'\")\n",
    "    songs.AlbumName[index] = songs.AlbumName[index].lstrip(\"b'\").rstrip(\"'\").rstrip('\"')\n",
    "    songs.ArtistID[index] = songs.ArtistID[index].lstrip(\"b'\").rstrip(\"'\")\n",
    "    songs.ArtistLocation[index] = songs.ArtistLocation[index].lstrip(\"b'\").rstrip(\"'\")\n",
    "    songs.Title[index] = songs.Title[index].lstrip(\"b'\").rstrip(\"'\")\n",
    "    songs.Track_ID[index] = songs.Track_ID[index].lstrip(\"b'\").rstrip(\"'\")"
   ]
  },
  {
   "cell_type": "code",
   "execution_count": 3,
   "metadata": {
    "scrolled": true
   },
   "outputs": [
    {
     "data": {
      "text/html": [
       "<div>\n",
       "<style scoped>\n",
       "    .dataframe tbody tr th:only-of-type {\n",
       "        vertical-align: middle;\n",
       "    }\n",
       "\n",
       "    .dataframe tbody tr th {\n",
       "        vertical-align: top;\n",
       "    }\n",
       "\n",
       "    .dataframe thead th {\n",
       "        text-align: right;\n",
       "    }\n",
       "</style>\n",
       "<table border=\"1\" class=\"dataframe\">\n",
       "  <thead>\n",
       "    <tr style=\"text-align: right;\">\n",
       "      <th></th>\n",
       "      <th>SongID</th>\n",
       "      <th>Title</th>\n",
       "      <th>ArtistName</th>\n",
       "      <th>Duration</th>\n",
       "      <th>Year</th>\n",
       "      <th>AlbumID</th>\n",
       "      <th>AlbumName</th>\n",
       "      <th>ArtistID</th>\n",
       "      <th>ArtistLongitude</th>\n",
       "      <th>ArtistLatitude</th>\n",
       "      <th>...</th>\n",
       "      <th>Tempo</th>\n",
       "      <th>TimeSignature</th>\n",
       "      <th>Loudness</th>\n",
       "      <th>Mode</th>\n",
       "      <th>Artist_Familiarity</th>\n",
       "      <th>Artist_Terms</th>\n",
       "      <th>Danceability</th>\n",
       "      <th>Song_Hotness</th>\n",
       "      <th>Artist_Hotness</th>\n",
       "      <th>Track_ID</th>\n",
       "    </tr>\n",
       "    <tr>\n",
       "      <th>SongNumber</th>\n",
       "      <th></th>\n",
       "      <th></th>\n",
       "      <th></th>\n",
       "      <th></th>\n",
       "      <th></th>\n",
       "      <th></th>\n",
       "      <th></th>\n",
       "      <th></th>\n",
       "      <th></th>\n",
       "      <th></th>\n",
       "      <th></th>\n",
       "      <th></th>\n",
       "      <th></th>\n",
       "      <th></th>\n",
       "      <th></th>\n",
       "      <th></th>\n",
       "      <th></th>\n",
       "      <th></th>\n",
       "      <th></th>\n",
       "      <th></th>\n",
       "      <th></th>\n",
       "    </tr>\n",
       "  </thead>\n",
       "  <tbody>\n",
       "    <tr>\n",
       "      <th>1</th>\n",
       "      <td>SOBBQDL12A58A7A988</td>\n",
       "      <td>100 Club 1996 ''We Love You Beatles'' - Live\"\"</td>\n",
       "      <td>Sex Pistols</td>\n",
       "      <td>88.73751</td>\n",
       "      <td>0</td>\n",
       "      <td>467088</td>\n",
       "      <td>Sex Pistols - The Interviews</td>\n",
       "      <td>ARD3LXU1187B9ABFC5</td>\n",
       "      <td>NaN</td>\n",
       "      <td>NaN</td>\n",
       "      <td>...</td>\n",
       "      <td>190.333</td>\n",
       "      <td>5</td>\n",
       "      <td>-11.229</td>\n",
       "      <td>0</td>\n",
       "      <td>0.731184</td>\n",
       "      <td>9.0</td>\n",
       "      <td>0.0</td>\n",
       "      <td>NaN</td>\n",
       "      <td>0.549204</td>\n",
       "      <td>TRBGJCT128F933A606</td>\n",
       "    </tr>\n",
       "    <tr>\n",
       "      <th>2</th>\n",
       "      <td>SOIZHEV12A8C14138B</td>\n",
       "      <td>Yo Quiero Contigo</td>\n",
       "      <td>Baby Rasta &amp; Gringo</td>\n",
       "      <td>167.36608</td>\n",
       "      <td>0</td>\n",
       "      <td>716669</td>\n",
       "      <td>Sentenciados - Platinum Edition</td>\n",
       "      <td>ARWWPKQ11F4C83D8E2</td>\n",
       "      <td>NaN</td>\n",
       "      <td>NaN</td>\n",
       "      <td>...</td>\n",
       "      <td>122.701</td>\n",
       "      <td>5</td>\n",
       "      <td>-8.383</td>\n",
       "      <td>0</td>\n",
       "      <td>0.610186</td>\n",
       "      <td>17.0</td>\n",
       "      <td>0.0</td>\n",
       "      <td>NaN</td>\n",
       "      <td>0.355320</td>\n",
       "      <td>TRBGJOG12903CC3E93</td>\n",
       "    </tr>\n",
       "    <tr>\n",
       "      <th>3</th>\n",
       "      <td>SOHFGYR12A8C13AE07</td>\n",
       "      <td>Vankina vapauden</td>\n",
       "      <td>Markus</td>\n",
       "      <td>189.36118</td>\n",
       "      <td>0</td>\n",
       "      <td>113407</td>\n",
       "      <td>20 Suosikkia / Jos viel\\xc3\\xa4 oot vapaa</td>\n",
       "      <td>AR6BUE51187B9B5D71</td>\n",
       "      <td>-85.69091</td>\n",
       "      <td>37.82245</td>\n",
       "      <td>...</td>\n",
       "      <td>97.103</td>\n",
       "      <td>3</td>\n",
       "      <td>-10.819</td>\n",
       "      <td>0</td>\n",
       "      <td>0.537533</td>\n",
       "      <td>32.0</td>\n",
       "      <td>0.0</td>\n",
       "      <td>NaN</td>\n",
       "      <td>0.343884</td>\n",
       "      <td>TRBGJFN128F429AB79</td>\n",
       "    </tr>\n",
       "    <tr>\n",
       "      <th>4</th>\n",
       "      <td>SOLFRNH12AB0181C7E</td>\n",
       "      <td>Goody Goody</td>\n",
       "      <td>Charlie Byrd Trio</td>\n",
       "      <td>232.93342</td>\n",
       "      <td>0</td>\n",
       "      <td>556943</td>\n",
       "      <td>I've Got the World On a String</td>\n",
       "      <td>AR137UW1187B98CCBA</td>\n",
       "      <td>NaN</td>\n",
       "      <td>NaN</td>\n",
       "      <td>...</td>\n",
       "      <td>173.828</td>\n",
       "      <td>4</td>\n",
       "      <td>-19.664</td>\n",
       "      <td>1</td>\n",
       "      <td>0.394768</td>\n",
       "      <td>12.0</td>\n",
       "      <td>0.0</td>\n",
       "      <td>NaN</td>\n",
       "      <td>0.175411</td>\n",
       "      <td>TRBGJTK128F93417F6</td>\n",
       "    </tr>\n",
       "    <tr>\n",
       "      <th>5</th>\n",
       "      <td>SOKMTOP12AC468980A</td>\n",
       "      <td>Emerald</td>\n",
       "      <td>Bedrock</td>\n",
       "      <td>501.86404</td>\n",
       "      <td>2004</td>\n",
       "      <td>699533</td>\n",
       "      <td>Emerald</td>\n",
       "      <td>ARFN4JN1187B98C627</td>\n",
       "      <td>18.48617</td>\n",
       "      <td>-22.96566</td>\n",
       "      <td>...</td>\n",
       "      <td>129.988</td>\n",
       "      <td>4</td>\n",
       "      <td>-14.442</td>\n",
       "      <td>1</td>\n",
       "      <td>0.654039</td>\n",
       "      <td>47.0</td>\n",
       "      <td>0.0</td>\n",
       "      <td>NaN</td>\n",
       "      <td>0.390625</td>\n",
       "      <td>TRBGJZN12903D0D2FC</td>\n",
       "    </tr>\n",
       "  </tbody>\n",
       "</table>\n",
       "<p>5 rows × 22 columns</p>\n",
       "</div>"
      ],
      "text/plain": [
       "                        SongID  \\\n",
       "SongNumber                       \n",
       "1           SOBBQDL12A58A7A988   \n",
       "2           SOIZHEV12A8C14138B   \n",
       "3           SOHFGYR12A8C13AE07   \n",
       "4           SOLFRNH12AB0181C7E   \n",
       "5           SOKMTOP12AC468980A   \n",
       "\n",
       "                                                     Title  \\\n",
       "SongNumber                                                   \n",
       "1           100 Club 1996 ''We Love You Beatles'' - Live\"\"   \n",
       "2                                        Yo Quiero Contigo   \n",
       "3                                         Vankina vapauden   \n",
       "4                                              Goody Goody   \n",
       "5                                                  Emerald   \n",
       "\n",
       "                     ArtistName   Duration  Year  AlbumID  \\\n",
       "SongNumber                                                  \n",
       "1                   Sex Pistols   88.73751     0   467088   \n",
       "2           Baby Rasta & Gringo  167.36608     0   716669   \n",
       "3                        Markus  189.36118     0   113407   \n",
       "4             Charlie Byrd Trio  232.93342     0   556943   \n",
       "5                       Bedrock  501.86404  2004   699533   \n",
       "\n",
       "                                            AlbumName            ArtistID  \\\n",
       "SongNumber                                                                  \n",
       "1                        Sex Pistols - The Interviews  ARD3LXU1187B9ABFC5   \n",
       "2                     Sentenciados - Platinum Edition  ARWWPKQ11F4C83D8E2   \n",
       "3           20 Suosikkia / Jos viel\\xc3\\xa4 oot vapaa  AR6BUE51187B9B5D71   \n",
       "4                      I've Got the World On a String  AR137UW1187B98CCBA   \n",
       "5                                             Emerald  ARFN4JN1187B98C627   \n",
       "\n",
       "            ArtistLongitude  ArtistLatitude  ...    Tempo  TimeSignature  \\\n",
       "SongNumber                                   ...                           \n",
       "1                       NaN             NaN  ...  190.333              5   \n",
       "2                       NaN             NaN  ...  122.701              5   \n",
       "3                 -85.69091        37.82245  ...   97.103              3   \n",
       "4                       NaN             NaN  ...  173.828              4   \n",
       "5                  18.48617       -22.96566  ...  129.988              4   \n",
       "\n",
       "            Loudness  Mode  Artist_Familiarity  Artist_Terms  Danceability  \\\n",
       "SongNumber                                                                   \n",
       "1            -11.229     0            0.731184           9.0           0.0   \n",
       "2             -8.383     0            0.610186          17.0           0.0   \n",
       "3            -10.819     0            0.537533          32.0           0.0   \n",
       "4            -19.664     1            0.394768          12.0           0.0   \n",
       "5            -14.442     1            0.654039          47.0           0.0   \n",
       "\n",
       "            Song_Hotness  Artist_Hotness            Track_ID  \n",
       "SongNumber                                                    \n",
       "1                    NaN        0.549204  TRBGJCT128F933A606  \n",
       "2                    NaN        0.355320  TRBGJOG12903CC3E93  \n",
       "3                    NaN        0.343884  TRBGJFN128F429AB79  \n",
       "4                    NaN        0.175411  TRBGJTK128F93417F6  \n",
       "5                    NaN        0.390625  TRBGJZN12903D0D2FC  \n",
       "\n",
       "[5 rows x 22 columns]"
      ]
     },
     "execution_count": 3,
     "metadata": {},
     "output_type": "execute_result"
    }
   ],
   "source": [
    "songs.head()"
   ]
  },
  {
   "cell_type": "code",
   "execution_count": 4,
   "metadata": {
    "scrolled": true
   },
   "outputs": [
    {
     "data": {
      "text/plain": [
       "Index(['SongID', 'Title', 'ArtistName', 'Duration', 'Year', 'AlbumID',\n",
       "       'AlbumName', 'ArtistID', 'ArtistLongitude', 'ArtistLatitude',\n",
       "       'ArtistLocation', 'KeySignature', 'Tempo', 'TimeSignature', 'Loudness',\n",
       "       'Mode', 'Artist_Familiarity', 'Artist_Terms', 'Danceability',\n",
       "       'Song_Hotness', 'Artist_Hotness', 'Track_ID'],\n",
       "      dtype='object')"
      ]
     },
     "execution_count": 4,
     "metadata": {},
     "output_type": "execute_result"
    }
   ],
   "source": [
    "songs.columns"
   ]
  },
  {
   "cell_type": "code",
   "execution_count": 5,
   "metadata": {
    "scrolled": true
   },
   "outputs": [
    {
     "data": {
      "text/plain": [
       "ArtistLongitude       62.58\n",
       "ArtistLatitude        62.58\n",
       "Song_Hotness          43.52\n",
       "Artist_Familiarity     0.04\n",
       "dtype: float64"
      ]
     },
     "execution_count": 5,
     "metadata": {},
     "output_type": "execute_result"
    }
   ],
   "source": [
    "value_null = songs.isnull().sum().sort_values(ascending=False)/len(songs)*100\n",
    "value_null[0:4]"
   ]
  },
  {
   "cell_type": "code",
   "execution_count": 6,
   "metadata": {
    "scrolled": false
   },
   "outputs": [
    {
     "data": {
      "text/plain": [
       "Danceability      100.00\n",
       "Year               53.20\n",
       "Mode               30.89\n",
       "Song_Hotness       14.34\n",
       "KeySignature       12.13\n",
       "Artist_Hotness      4.96\n",
       "Tempo               0.25\n",
       "dtype: float64"
      ]
     },
     "execution_count": 6,
     "metadata": {},
     "output_type": "execute_result"
    }
   ],
   "source": [
    "value_z = songs[songs == 0].count().sort_values(ascending=False)/len(songs)*100\n",
    "value_z[0:7]"
   ]
  },
  {
   "cell_type": "code",
   "execution_count": 7,
   "metadata": {},
   "outputs": [],
   "source": [
    "value_miss = value_z + value_null"
   ]
  },
  {
   "cell_type": "code",
   "execution_count": 8,
   "metadata": {},
   "outputs": [
    {
     "data": {
      "text/plain": [
       "Danceability       100.00\n",
       "ArtistLatitude      62.58\n",
       "ArtistLongitude     62.58\n",
       "Song_Hotness        57.86\n",
       "Year                53.20\n",
       "Mode                30.89\n",
       "KeySignature        12.13\n",
       "Artist_Hotness       4.96\n",
       "Tempo                0.25\n",
       "dtype: float64"
      ]
     },
     "execution_count": 8,
     "metadata": {},
     "output_type": "execute_result"
    }
   ],
   "source": [
    "value_miss.sort_values(ascending=False)[0:9]"
   ]
  },
  {
   "cell_type": "code",
   "execution_count": 9,
   "metadata": {
    "scrolled": true
   },
   "outputs": [
    {
     "data": {
      "image/png": "[encoded data removed]",
      "text/plain": [
       "<Figure size 432x288 with 2 Axes>"
      ]
     },
     "metadata": {
      "needs_background": "light"
     },
     "output_type": "display_data"
    }
   ],
   "source": [
    "corr = songs.corr()\n",
    "sns.heatmap(corr, xticklabels=corr.columns, yticklabels=corr.columns, cmap= \"YlGnBu\");"
   ]
  },
  {
   "cell_type": "code",
   "execution_count": 10,
   "metadata": {},
   "outputs": [
    {
     "data": {
      "text/html": [
       "<div>\n",
       "<style scoped>\n",
       "    .dataframe tbody tr th:only-of-type {\n",
       "        vertical-align: middle;\n",
       "    }\n",
       "\n",
       "    .dataframe tbody tr th {\n",
       "        vertical-align: top;\n",
       "    }\n",
       "\n",
       "    .dataframe thead th {\n",
       "        text-align: right;\n",
       "    }\n",
       "</style>\n",
       "<table border=\"1\" class=\"dataframe\">\n",
       "  <thead>\n",
       "    <tr style=\"text-align: right;\">\n",
       "      <th></th>\n",
       "      <th>feature_1</th>\n",
       "      <th>feature_2</th>\n",
       "      <th>correlation</th>\n",
       "    </tr>\n",
       "  </thead>\n",
       "  <tbody>\n",
       "    <tr>\n",
       "      <th>164</th>\n",
       "      <td>Artist_Familiarity</td>\n",
       "      <td>Artist_Hotness</td>\n",
       "      <td>0.811102</td>\n",
       "    </tr>\n",
       "    <tr>\n",
       "      <th>220</th>\n",
       "      <td>Artist_Hotness</td>\n",
       "      <td>Artist_Familiarity</td>\n",
       "      <td>0.811102</td>\n",
       "    </tr>\n",
       "    <tr>\n",
       "      <th>163</th>\n",
       "      <td>Artist_Familiarity</td>\n",
       "      <td>Song_Hotness</td>\n",
       "      <td>0.543748</td>\n",
       "    </tr>\n",
       "    <tr>\n",
       "      <th>205</th>\n",
       "      <td>Song_Hotness</td>\n",
       "      <td>Artist_Familiarity</td>\n",
       "      <td>0.543748</td>\n",
       "    </tr>\n",
       "    <tr>\n",
       "      <th>209</th>\n",
       "      <td>Song_Hotness</td>\n",
       "      <td>Artist_Hotness</td>\n",
       "      <td>0.522261</td>\n",
       "    </tr>\n",
       "    <tr>\n",
       "      <th>223</th>\n",
       "      <td>Artist_Hotness</td>\n",
       "      <td>Song_Hotness</td>\n",
       "      <td>0.522261</td>\n",
       "    </tr>\n",
       "    <tr>\n",
       "      <th>28</th>\n",
       "      <td>Year</td>\n",
       "      <td>Song_Hotness</td>\n",
       "      <td>0.447704</td>\n",
       "    </tr>\n",
       "    <tr>\n",
       "      <th>196</th>\n",
       "      <td>Song_Hotness</td>\n",
       "      <td>Year</td>\n",
       "      <td>0.447704</td>\n",
       "    </tr>\n",
       "    <tr>\n",
       "      <th>25</th>\n",
       "      <td>Year</td>\n",
       "      <td>Artist_Familiarity</td>\n",
       "      <td>0.387813</td>\n",
       "    </tr>\n",
       "    <tr>\n",
       "      <th>151</th>\n",
       "      <td>Artist_Familiarity</td>\n",
       "      <td>Year</td>\n",
       "      <td>0.387813</td>\n",
       "    </tr>\n",
       "    <tr>\n",
       "      <th>211</th>\n",
       "      <td>Artist_Hotness</td>\n",
       "      <td>Year</td>\n",
       "      <td>0.366978</td>\n",
       "    </tr>\n",
       "    <tr>\n",
       "      <th>29</th>\n",
       "      <td>Year</td>\n",
       "      <td>Artist_Hotness</td>\n",
       "      <td>0.366978</td>\n",
       "    </tr>\n",
       "    <tr>\n",
       "      <th>175</th>\n",
       "      <td>Artist_Terms</td>\n",
       "      <td>Artist_Familiarity</td>\n",
       "      <td>0.265576</td>\n",
       "    </tr>\n",
       "    <tr>\n",
       "      <th>161</th>\n",
       "      <td>Artist_Familiarity</td>\n",
       "      <td>Artist_Terms</td>\n",
       "      <td>0.265576</td>\n",
       "    </tr>\n",
       "    <tr>\n",
       "      <th>158</th>\n",
       "      <td>Artist_Familiarity</td>\n",
       "      <td>Loudness</td>\n",
       "      <td>0.239432</td>\n",
       "    </tr>\n",
       "    <tr>\n",
       "      <th>130</th>\n",
       "      <td>Loudness</td>\n",
       "      <td>Artist_Familiarity</td>\n",
       "      <td>0.239432</td>\n",
       "    </tr>\n",
       "    <tr>\n",
       "      <th>221</th>\n",
       "      <td>Artist_Hotness</td>\n",
       "      <td>Artist_Terms</td>\n",
       "      <td>0.229775</td>\n",
       "    </tr>\n",
       "    <tr>\n",
       "      <th>179</th>\n",
       "      <td>Artist_Terms</td>\n",
       "      <td>Artist_Hotness</td>\n",
       "      <td>0.229775</td>\n",
       "    </tr>\n",
       "    <tr>\n",
       "      <th>133</th>\n",
       "      <td>Loudness</td>\n",
       "      <td>Song_Hotness</td>\n",
       "      <td>0.226461</td>\n",
       "    </tr>\n",
       "    <tr>\n",
       "      <th>203</th>\n",
       "      <td>Song_Hotness</td>\n",
       "      <td>Loudness</td>\n",
       "      <td>0.226461</td>\n",
       "    </tr>\n",
       "    <tr>\n",
       "      <th>166</th>\n",
       "      <td>Artist_Terms</td>\n",
       "      <td>Year</td>\n",
       "      <td>0.190235</td>\n",
       "    </tr>\n",
       "    <tr>\n",
       "      <th>26</th>\n",
       "      <td>Year</td>\n",
       "      <td>Artist_Terms</td>\n",
       "      <td>0.190235</td>\n",
       "    </tr>\n",
       "    <tr>\n",
       "      <th>134</th>\n",
       "      <td>Loudness</td>\n",
       "      <td>Artist_Hotness</td>\n",
       "      <td>0.187415</td>\n",
       "    </tr>\n",
       "    <tr>\n",
       "      <th>218</th>\n",
       "      <td>Artist_Hotness</td>\n",
       "      <td>Loudness</td>\n",
       "      <td>0.187415</td>\n",
       "    </tr>\n",
       "    <tr>\n",
       "      <th>98</th>\n",
       "      <td>Tempo</td>\n",
       "      <td>Loudness</td>\n",
       "      <td>0.179354</td>\n",
       "    </tr>\n",
       "    <tr>\n",
       "      <th>126</th>\n",
       "      <td>Loudness</td>\n",
       "      <td>Tempo</td>\n",
       "      <td>0.179354</td>\n",
       "    </tr>\n",
       "    <tr>\n",
       "      <th>23</th>\n",
       "      <td>Year</td>\n",
       "      <td>Loudness</td>\n",
       "      <td>0.140746</td>\n",
       "    </tr>\n",
       "    <tr>\n",
       "      <th>121</th>\n",
       "      <td>Loudness</td>\n",
       "      <td>Year</td>\n",
       "      <td>0.140746</td>\n",
       "    </tr>\n",
       "    <tr>\n",
       "      <th>178</th>\n",
       "      <td>Artist_Terms</td>\n",
       "      <td>Song_Hotness</td>\n",
       "      <td>0.116811</td>\n",
       "    </tr>\n",
       "    <tr>\n",
       "      <th>206</th>\n",
       "      <td>Song_Hotness</td>\n",
       "      <td>Artist_Terms</td>\n",
       "      <td>0.116811</td>\n",
       "    </tr>\n",
       "    <tr>\n",
       "      <th>113</th>\n",
       "      <td>TimeSignature</td>\n",
       "      <td>Loudness</td>\n",
       "      <td>0.116122</td>\n",
       "    </tr>\n",
       "    <tr>\n",
       "      <th>127</th>\n",
       "      <td>Loudness</td>\n",
       "      <td>TimeSignature</td>\n",
       "      <td>0.116122</td>\n",
       "    </tr>\n",
       "    <tr>\n",
       "      <th>7</th>\n",
       "      <td>Duration</td>\n",
       "      <td>TimeSignature</td>\n",
       "      <td>0.111448</td>\n",
       "    </tr>\n",
       "    <tr>\n",
       "      <th>105</th>\n",
       "      <td>TimeSignature</td>\n",
       "      <td>Duration</td>\n",
       "      <td>0.111448</td>\n",
       "    </tr>\n",
       "    <tr>\n",
       "      <th>103</th>\n",
       "      <td>Tempo</td>\n",
       "      <td>Song_Hotness</td>\n",
       "      <td>0.079031</td>\n",
       "    </tr>\n",
       "    <tr>\n",
       "      <th>201</th>\n",
       "      <td>Song_Hotness</td>\n",
       "      <td>Tempo</td>\n",
       "      <td>0.079031</td>\n",
       "    </tr>\n",
       "    <tr>\n",
       "      <th>168</th>\n",
       "      <td>Artist_Terms</td>\n",
       "      <td>ArtistLongitude</td>\n",
       "      <td>0.067872</td>\n",
       "    </tr>\n",
       "    <tr>\n",
       "      <th>56</th>\n",
       "      <td>ArtistLongitude</td>\n",
       "      <td>Artist_Terms</td>\n",
       "      <td>0.067872</td>\n",
       "    </tr>\n",
       "    <tr>\n",
       "      <th>156</th>\n",
       "      <td>Artist_Familiarity</td>\n",
       "      <td>Tempo</td>\n",
       "      <td>0.065946</td>\n",
       "    </tr>\n",
       "    <tr>\n",
       "      <th>100</th>\n",
       "      <td>Tempo</td>\n",
       "      <td>Artist_Familiarity</td>\n",
       "      <td>0.065946</td>\n",
       "    </tr>\n",
       "    <tr>\n",
       "      <th>45</th>\n",
       "      <td>ArtistLongitude</td>\n",
       "      <td>Duration</td>\n",
       "      <td>0.062514</td>\n",
       "    </tr>\n",
       "    <tr>\n",
       "      <th>3</th>\n",
       "      <td>Duration</td>\n",
       "      <td>ArtistLongitude</td>\n",
       "      <td>0.062514</td>\n",
       "    </tr>\n",
       "    <tr>\n",
       "      <th>73</th>\n",
       "      <td>ArtistLatitude</td>\n",
       "      <td>Song_Hotness</td>\n",
       "      <td>0.060418</td>\n",
       "    </tr>\n",
       "    <tr>\n",
       "      <th>199</th>\n",
       "      <td>Song_Hotness</td>\n",
       "      <td>ArtistLatitude</td>\n",
       "      <td>0.060418</td>\n",
       "    </tr>\n",
       "    <tr>\n",
       "      <th>91</th>\n",
       "      <td>Tempo</td>\n",
       "      <td>Year</td>\n",
       "      <td>0.060045</td>\n",
       "    </tr>\n",
       "    <tr>\n",
       "      <th>21</th>\n",
       "      <td>Year</td>\n",
       "      <td>Tempo</td>\n",
       "      <td>0.060045</td>\n",
       "    </tr>\n",
       "    <tr>\n",
       "      <th>68</th>\n",
       "      <td>ArtistLatitude</td>\n",
       "      <td>Loudness</td>\n",
       "      <td>0.059995</td>\n",
       "    </tr>\n",
       "    <tr>\n",
       "      <th>124</th>\n",
       "      <td>Loudness</td>\n",
       "      <td>ArtistLatitude</td>\n",
       "      <td>0.059995</td>\n",
       "    </tr>\n",
       "    <tr>\n",
       "      <th>115</th>\n",
       "      <td>TimeSignature</td>\n",
       "      <td>Artist_Familiarity</td>\n",
       "      <td>0.058515</td>\n",
       "    </tr>\n",
       "    <tr>\n",
       "      <th>157</th>\n",
       "      <td>Artist_Familiarity</td>\n",
       "      <td>TimeSignature</td>\n",
       "      <td>0.058515</td>\n",
       "    </tr>\n",
       "  </tbody>\n",
       "</table>\n",
       "</div>"
      ],
      "text/plain": [
       "              feature_1           feature_2  correlation\n",
       "164  Artist_Familiarity      Artist_Hotness     0.811102\n",
       "220      Artist_Hotness  Artist_Familiarity     0.811102\n",
       "163  Artist_Familiarity        Song_Hotness     0.543748\n",
       "205        Song_Hotness  Artist_Familiarity     0.543748\n",
       "209        Song_Hotness      Artist_Hotness     0.522261\n",
       "223      Artist_Hotness        Song_Hotness     0.522261\n",
       "28                 Year        Song_Hotness     0.447704\n",
       "196        Song_Hotness                Year     0.447704\n",
       "25                 Year  Artist_Familiarity     0.387813\n",
       "151  Artist_Familiarity                Year     0.387813\n",
       "211      Artist_Hotness                Year     0.366978\n",
       "29                 Year      Artist_Hotness     0.366978\n",
       "175        Artist_Terms  Artist_Familiarity     0.265576\n",
       "161  Artist_Familiarity        Artist_Terms     0.265576\n",
       "158  Artist_Familiarity            Loudness     0.239432\n",
       "130            Loudness  Artist_Familiarity     0.239432\n",
       "221      Artist_Hotness        Artist_Terms     0.229775\n",
       "179        Artist_Terms      Artist_Hotness     0.229775\n",
       "133            Loudness        Song_Hotness     0.226461\n",
       "203        Song_Hotness            Loudness     0.226461\n",
       "166        Artist_Terms                Year     0.190235\n",
       "26                 Year        Artist_Terms     0.190235\n",
       "134            Loudness      Artist_Hotness     0.187415\n",
       "218      Artist_Hotness            Loudness     0.187415\n",
       "98                Tempo            Loudness     0.179354\n",
       "126            Loudness               Tempo     0.179354\n",
       "23                 Year            Loudness     0.140746\n",
       "121            Loudness                Year     0.140746\n",
       "178        Artist_Terms        Song_Hotness     0.116811\n",
       "206        Song_Hotness        Artist_Terms     0.116811\n",
       "113       TimeSignature            Loudness     0.116122\n",
       "127            Loudness       TimeSignature     0.116122\n",
       "7              Duration       TimeSignature     0.111448\n",
       "105       TimeSignature            Duration     0.111448\n",
       "103               Tempo        Song_Hotness     0.079031\n",
       "201        Song_Hotness               Tempo     0.079031\n",
       "168        Artist_Terms     ArtistLongitude     0.067872\n",
       "56      ArtistLongitude        Artist_Terms     0.067872\n",
       "156  Artist_Familiarity               Tempo     0.065946\n",
       "100               Tempo  Artist_Familiarity     0.065946\n",
       "45      ArtistLongitude            Duration     0.062514\n",
       "3              Duration     ArtistLongitude     0.062514\n",
       "73       ArtistLatitude        Song_Hotness     0.060418\n",
       "199        Song_Hotness      ArtistLatitude     0.060418\n",
       "91                Tempo                Year     0.060045\n",
       "21                 Year               Tempo     0.060045\n",
       "68       ArtistLatitude            Loudness     0.059995\n",
       "124            Loudness      ArtistLatitude     0.059995\n",
       "115       TimeSignature  Artist_Familiarity     0.058515\n",
       "157  Artist_Familiarity       TimeSignature     0.058515"
      ]
     },
     "execution_count": 10,
     "metadata": {},
     "output_type": "execute_result"
    }
   ],
   "source": [
    "corr_df = corr.unstack().reset_index() # Unstack correlation matrix \n",
    "corr_df.columns = ['feature_1','feature_2', 'correlation'] # rename columns\n",
    "corr_df.sort_values(by=\"correlation\",ascending=False, inplace=True) # sort by correlation\n",
    "corr_df = corr_df[corr_df['feature_1'] != corr_df['feature_2']] # Remove self correlation\n",
    "corr_df.head(50)"
   ]
  },
  {
   "cell_type": "code",
   "execution_count": 11,
   "metadata": {
    "scrolled": true
   },
   "outputs": [
    {
     "data": {
      "text/plain": [
       "SongID                 object\n",
       "Title                  object\n",
       "ArtistName             object\n",
       "Duration              float64\n",
       "Year                    int64\n",
       "AlbumID                 int64\n",
       "AlbumName              object\n",
       "ArtistID               object\n",
       "ArtistLongitude       float64\n",
       "ArtistLatitude        float64\n",
       "ArtistLocation         object\n",
       "KeySignature            int64\n",
       "Tempo                 float64\n",
       "TimeSignature           int64\n",
       "Loudness              float64\n",
       "Mode                    int64\n",
       "Artist_Familiarity    float64\n",
       "Artist_Terms          float64\n",
       "Danceability          float64\n",
       "Song_Hotness          float64\n",
       "Artist_Hotness        float64\n",
       "Track_ID               object\n",
       "dtype: object"
      ]
     },
     "execution_count": 11,
     "metadata": {},
     "output_type": "execute_result"
    }
   ],
   "source": [
    "songs.dtypes"
   ]
  },
  {
   "cell_type": "code",
   "execution_count": 12,
   "metadata": {
    "scrolled": true
   },
   "outputs": [
    {
     "data": {
      "text/plain": [
       "0.000000    0.253895\n",
       "0.265861    0.024788\n",
       "0.215080    0.021778\n",
       "0.334707    0.016112\n",
       "0.212045    0.013456\n",
       "              ...   \n",
       "0.401926    0.000177\n",
       "0.625412    0.000177\n",
       "0.802933    0.000177\n",
       "0.503900    0.000177\n",
       "0.253154    0.000177\n",
       "Name: Song_Hotness, Length: 1919, dtype: float64"
      ]
     },
     "execution_count": 12,
     "metadata": {},
     "output_type": "execute_result"
    }
   ],
   "source": [
    "songs[\"Song_Hotness\"].value_counts(normalize = True)"
   ]
  },
  {
   "cell_type": "code",
   "execution_count": 13,
   "metadata": {},
   "outputs": [
    {
     "data": {
      "text/plain": [
       "False    5648\n",
       "True     4352\n",
       "Name: Song_Hotness, dtype: int64"
      ]
     },
     "execution_count": 13,
     "metadata": {},
     "output_type": "execute_result"
    }
   ],
   "source": [
    "songs.Song_Hotness.isnull().value_counts()"
   ]
  },
  {
   "cell_type": "code",
   "execution_count": 14,
   "metadata": {
    "scrolled": true
   },
   "outputs": [
    {
     "data": {
      "text/plain": [
       "0.0    10000\n",
       "Name: Danceability, dtype: int64"
      ]
     },
     "execution_count": 14,
     "metadata": {},
     "output_type": "execute_result"
    }
   ],
   "source": [
    "songs.Danceability.value_counts()"
   ]
  },
  {
   "cell_type": "code",
   "execution_count": 15,
   "metadata": {
    "scrolled": false
   },
   "outputs": [
    {
     "data": {
      "text/plain": [
       "0       5320\n",
       "2006     320\n",
       "2005     304\n",
       "2007     285\n",
       "2004     270\n",
       "        ... \n",
       "1950       1\n",
       "1954       1\n",
       "1936       1\n",
       "1929       1\n",
       "1957       1\n",
       "Name: Year, Length: 69, dtype: int64"
      ]
     },
     "execution_count": 15,
     "metadata": {},
     "output_type": "execute_result"
    }
   ],
   "source": [
    "songs.Year.value_counts()"
   ]
  },
  {
   "cell_type": "code",
   "execution_count": 16,
   "metadata": {
    "scrolled": false
   },
   "outputs": [
    {
     "data": {
      "text/plain": [
       "Mario Rosenstock                  13\n",
       "The Jackson Southernaires         12\n",
       "Sugar Minott                      12\n",
       "Phil Collins                      12\n",
       "Aerosmith                         12\n",
       "                                  ..\n",
       "The Revolutionary Ensemble         1\n",
       "Leroy Van Dyke                     1\n",
       "Lightnin' Slim\"\"                   1\n",
       "Twista & The Speedknot Mobstaz     1\n",
       "Akissa                             1\n",
       "Name: ArtistName, Length: 4412, dtype: int64"
      ]
     },
     "execution_count": 16,
     "metadata": {},
     "output_type": "execute_result"
    }
   ],
   "source": [
    "songs.ArtistName.value_counts()"
   ]
  },
  {
   "cell_type": "code",
   "execution_count": 17,
   "metadata": {},
   "outputs": [
    {
     "data": {
      "text/plain": [
       "<AxesSubplot:xlabel='Year', ylabel='Count'>"
      ]
     },
     "execution_count": 17,
     "metadata": {},
     "output_type": "execute_result"
    },
    {
     "data": {
      "image/png": "[encoded data removed]",
      "text/plain": [
       "<Figure size 432x288 with 1 Axes>"
      ]
     },
     "metadata": {
      "needs_background": "light"
     },
     "output_type": "display_data"
    }
   ],
   "source": [
    "sns.histplot(songs.Year[songs.Year!= 0])"
   ]
  },
  {
   "cell_type": "code",
   "execution_count": 18,
   "metadata": {},
   "outputs": [],
   "source": [
    "songs.Tempo = round(songs.Tempo,0)"
   ]
  },
  {
   "cell_type": "code",
   "execution_count": 19,
   "metadata": {
    "scrolled": false
   },
   "outputs": [
    {
     "data": {
      "text/html": [
       "<div>\n",
       "<style scoped>\n",
       "    .dataframe tbody tr th:only-of-type {\n",
       "        vertical-align: middle;\n",
       "    }\n",
       "\n",
       "    .dataframe tbody tr th {\n",
       "        vertical-align: top;\n",
       "    }\n",
       "\n",
       "    .dataframe thead th {\n",
       "        text-align: right;\n",
       "    }\n",
       "</style>\n",
       "<table border=\"1\" class=\"dataframe\">\n",
       "  <thead>\n",
       "    <tr style=\"text-align: right;\">\n",
       "      <th></th>\n",
       "      <th>Tempo</th>\n",
       "    </tr>\n",
       "  </thead>\n",
       "  <tbody>\n",
       "    <tr>\n",
       "      <th>120.0</th>\n",
       "      <td>206</td>\n",
       "    </tr>\n",
       "    <tr>\n",
       "      <th>100.0</th>\n",
       "      <td>188</td>\n",
       "    </tr>\n",
       "    <tr>\n",
       "      <th>130.0</th>\n",
       "      <td>176</td>\n",
       "    </tr>\n",
       "    <tr>\n",
       "      <th>90.0</th>\n",
       "      <td>156</td>\n",
       "    </tr>\n",
       "    <tr>\n",
       "      <th>125.0</th>\n",
       "      <td>153</td>\n",
       "    </tr>\n",
       "    <tr>\n",
       "      <th>...</th>\n",
       "      <td>...</td>\n",
       "    </tr>\n",
       "    <tr>\n",
       "      <th>20.0</th>\n",
       "      <td>1</td>\n",
       "    </tr>\n",
       "    <tr>\n",
       "      <th>233.0</th>\n",
       "      <td>1</td>\n",
       "    </tr>\n",
       "    <tr>\n",
       "      <th>237.0</th>\n",
       "      <td>1</td>\n",
       "    </tr>\n",
       "    <tr>\n",
       "      <th>253.0</th>\n",
       "      <td>1</td>\n",
       "    </tr>\n",
       "    <tr>\n",
       "      <th>247.0</th>\n",
       "      <td>1</td>\n",
       "    </tr>\n",
       "  </tbody>\n",
       "</table>\n",
       "<p>223 rows × 1 columns</p>\n",
       "</div>"
      ],
      "text/plain": [
       "       Tempo\n",
       "120.0    206\n",
       "100.0    188\n",
       "130.0    176\n",
       "90.0     156\n",
       "125.0    153\n",
       "...      ...\n",
       "20.0       1\n",
       "233.0      1\n",
       "237.0      1\n",
       "253.0      1\n",
       "247.0      1\n",
       "\n",
       "[223 rows x 1 columns]"
      ]
     },
     "execution_count": 19,
     "metadata": {},
     "output_type": "execute_result"
    }
   ],
   "source": [
    "df_tempo = songs.Tempo.value_counts()\n",
    "df_tempo = pd.DataFrame(df_tempo)\n",
    "df_tempo"
   ]
  },
  {
   "cell_type": "code",
   "execution_count": 20,
   "metadata": {},
   "outputs": [
    {
     "data": {
      "text/plain": [
       "<AxesSubplot:ylabel='Count'>"
      ]
     },
     "execution_count": 20,
     "metadata": {},
     "output_type": "execute_result"
    },
    {
     "data": {
      "image/png": "[encoded data removed]",
      "text/plain": [
       "<Figure size 432x288 with 1 Axes>"
      ]
     },
     "metadata": {
      "needs_background": "light"
     },
     "output_type": "display_data"
    }
   ],
   "source": [
    "sns.histplot(df_tempo)"
   ]
  },
  {
   "cell_type": "code",
   "execution_count": 21,
   "metadata": {},
   "outputs": [
    {
     "name": "stderr",
     "output_type": "stream",
     "text": [
      "/Users/Marguerite/.pyenv/versions/3.8.12/envs/lewagon_current/lib/python3.8/site-packages/pandas/util/_decorators.py:311: ParserWarning: Falling back to the 'python' engine because the 'c' engine does not support regex separators (separators > 1 char and different from '\\s+' are interpreted as regex); you can avoid this warning by specifying engine='python'.\n",
      "  return func(*args, **kwargs)\n"
     ]
    }
   ],
   "source": [
    "df_year = pd.read_csv('tracks_per_year.txt', sep =\"<SEP>\")\n",
    "df_year.columns = [\"Year\",\"ID\",\"Artist\",\"Title\"]"
   ]
  },
  {
   "cell_type": "code",
   "execution_count": 22,
   "metadata": {},
   "outputs": [
    {
     "data": {
      "text/html": [
       "<div>\n",
       "<style scoped>\n",
       "    .dataframe tbody tr th:only-of-type {\n",
       "        vertical-align: middle;\n",
       "    }\n",
       "\n",
       "    .dataframe tbody tr th {\n",
       "        vertical-align: top;\n",
       "    }\n",
       "\n",
       "    .dataframe thead th {\n",
       "        text-align: right;\n",
       "    }\n",
       "</style>\n",
       "<table border=\"1\" class=\"dataframe\">\n",
       "  <thead>\n",
       "    <tr style=\"text-align: right;\">\n",
       "      <th></th>\n",
       "      <th>Year</th>\n",
       "      <th>ID</th>\n",
       "      <th>Artist</th>\n",
       "      <th>Title</th>\n",
       "    </tr>\n",
       "  </thead>\n",
       "  <tbody>\n",
       "    <tr>\n",
       "      <th>0</th>\n",
       "      <td>1922</td>\n",
       "      <td>TRMYDFV128F42511FC</td>\n",
       "      <td>Barrington Levy</td>\n",
       "      <td>Warm And Sunny Day</td>\n",
       "    </tr>\n",
       "    <tr>\n",
       "      <th>1</th>\n",
       "      <td>1922</td>\n",
       "      <td>TRRAHXQ128F42511FF</td>\n",
       "      <td>Barrington Levy</td>\n",
       "      <td>Looking My Love</td>\n",
       "    </tr>\n",
       "    <tr>\n",
       "      <th>2</th>\n",
       "      <td>1922</td>\n",
       "      <td>TRFAFTK12903CC77B8</td>\n",
       "      <td>Barrington Levy</td>\n",
       "      <td>Warm And Sunny Day</td>\n",
       "    </tr>\n",
       "    <tr>\n",
       "      <th>3</th>\n",
       "      <td>1922</td>\n",
       "      <td>TRSTBUY128F4251203</td>\n",
       "      <td>Barrington Levy</td>\n",
       "      <td>Mandela You're Free</td>\n",
       "    </tr>\n",
       "    <tr>\n",
       "      <th>4</th>\n",
       "      <td>1922</td>\n",
       "      <td>TRODGCA128F4251206</td>\n",
       "      <td>Barrington Levy</td>\n",
       "      <td>Something In My Heart (Full Vocal)</td>\n",
       "    </tr>\n",
       "    <tr>\n",
       "      <th>...</th>\n",
       "      <td>...</td>\n",
       "      <td>...</td>\n",
       "      <td>...</td>\n",
       "      <td>...</td>\n",
       "    </tr>\n",
       "    <tr>\n",
       "      <th>515570</th>\n",
       "      <td>2010</td>\n",
       "      <td>TRPLSGR128F930135B</td>\n",
       "      <td>Ólafur Arnalds</td>\n",
       "      <td>Loftið verður skyndilega kalt</td>\n",
       "    </tr>\n",
       "    <tr>\n",
       "      <th>515571</th>\n",
       "      <td>2010</td>\n",
       "      <td>TRLYTZU128F930135F</td>\n",
       "      <td>Ólafur Arnalds</td>\n",
       "      <td>Gleypa okkur</td>\n",
       "    </tr>\n",
       "    <tr>\n",
       "      <th>515572</th>\n",
       "      <td>2010</td>\n",
       "      <td>TRJHYON128F9301354</td>\n",
       "      <td>Ólafur Arnalds</td>\n",
       "      <td>Þú ert jörðin</td>\n",
       "    </tr>\n",
       "    <tr>\n",
       "      <th>515573</th>\n",
       "      <td>2010</td>\n",
       "      <td>TRXQZXQ128F9301352</td>\n",
       "      <td>Ólafur Arnalds</td>\n",
       "      <td>Þú ert sólin</td>\n",
       "    </tr>\n",
       "    <tr>\n",
       "      <th>515574</th>\n",
       "      <td>2011</td>\n",
       "      <td>TRCGTAH12903CAFAB8</td>\n",
       "      <td>The Joy Formidable</td>\n",
       "      <td>Popinjay</td>\n",
       "    </tr>\n",
       "  </tbody>\n",
       "</table>\n",
       "<p>515575 rows × 4 columns</p>\n",
       "</div>"
      ],
      "text/plain": [
       "        Year                  ID              Artist  \\\n",
       "0       1922  TRMYDFV128F42511FC     Barrington Levy   \n",
       "1       1922  TRRAHXQ128F42511FF     Barrington Levy   \n",
       "2       1922  TRFAFTK12903CC77B8     Barrington Levy   \n",
       "3       1922  TRSTBUY128F4251203     Barrington Levy   \n",
       "4       1922  TRODGCA128F4251206     Barrington Levy   \n",
       "...      ...                 ...                 ...   \n",
       "515570  2010  TRPLSGR128F930135B      Ólafur Arnalds   \n",
       "515571  2010  TRLYTZU128F930135F      Ólafur Arnalds   \n",
       "515572  2010  TRJHYON128F9301354      Ólafur Arnalds   \n",
       "515573  2010  TRXQZXQ128F9301352      Ólafur Arnalds   \n",
       "515574  2011  TRCGTAH12903CAFAB8  The Joy Formidable   \n",
       "\n",
       "                                     Title  \n",
       "0                       Warm And Sunny Day  \n",
       "1                          Looking My Love  \n",
       "2                       Warm And Sunny Day  \n",
       "3                      Mandela You're Free  \n",
       "4       Something In My Heart (Full Vocal)  \n",
       "...                                    ...  \n",
       "515570       Loftið verður skyndilega kalt  \n",
       "515571                        Gleypa okkur  \n",
       "515572                       Þú ert jörðin  \n",
       "515573                        Þú ert sólin  \n",
       "515574                            Popinjay  \n",
       "\n",
       "[515575 rows x 4 columns]"
      ]
     },
     "execution_count": 22,
     "metadata": {},
     "output_type": "execute_result"
    }
   ],
   "source": [
    "df_year"
   ]
  },
  {
   "cell_type": "code",
   "execution_count": 23,
   "metadata": {},
   "outputs": [
    {
     "data": {
      "text/plain": [
       "Int64Index([301267], dtype='int64')"
      ]
     },
     "execution_count": 23,
     "metadata": {},
     "output_type": "execute_result"
    }
   ],
   "source": [
    "df_year.index[df_year['ID'] == \"TRBGJZN12903D0D2FC\"]"
   ]
  },
  {
   "cell_type": "code",
   "execution_count": 24,
   "metadata": {},
   "outputs": [
    {
     "data": {
      "text/plain": [
       "222.14485     8\n",
       "216.81587     8\n",
       "229.51138     7\n",
       "181.39383     7\n",
       "232.20200     7\n",
       "             ..\n",
       "200.67220     1\n",
       "200.61995     1\n",
       "200.56771     1\n",
       "200.54159     1\n",
       "1819.76771    1\n",
       "Name: Duration, Length: 6553, dtype: int64"
      ]
     },
     "execution_count": 24,
     "metadata": {},
     "output_type": "execute_result"
    }
   ],
   "source": [
    "songs.Duration.sort_values().value_counts()"
   ]
  },
  {
   "cell_type": "code",
   "execution_count": 25,
   "metadata": {},
   "outputs": [
    {
     "data": {
      "text/plain": [
       "Int64Index([5], dtype='int64', name='SongNumber')"
      ]
     },
     "execution_count": 25,
     "metadata": {},
     "output_type": "execute_result"
    }
   ],
   "source": [
    "songs.index[songs['Track_ID'] == \"TRBGJZN12903D0D2FC\"]"
   ]
  },
  {
   "cell_type": "code",
   "execution_count": 26,
   "metadata": {
    "scrolled": true
   },
   "outputs": [
    {
     "data": {
      "text/plain": [
       "'TRBGJZN12903D0D2FC'"
      ]
     },
     "execution_count": 26,
     "metadata": {},
     "output_type": "execute_result"
    }
   ],
   "source": [
    "df_year.ID[301267]"
   ]
  },
  {
   "cell_type": "code",
   "execution_count": 27,
   "metadata": {},
   "outputs": [],
   "source": [
    "df_songs = songs.merge(df_year, how = \"left\", left_on = 'Track_ID', right_on = \"ID\")"
   ]
  },
  {
   "cell_type": "code",
   "execution_count": 28,
   "metadata": {},
   "outputs": [
    {
     "data": {
      "text/plain": [
       "2010"
      ]
     },
     "execution_count": 28,
     "metadata": {},
     "output_type": "execute_result"
    }
   ],
   "source": [
    "songs.Year.max()"
   ]
  },
  {
   "cell_type": "code",
   "execution_count": 29,
   "metadata": {},
   "outputs": [],
   "source": [
    "value_null = df_songs.isnull().sum().sort_values(ascending=False)/len(df_songs)*100"
   ]
  },
  {
   "cell_type": "code",
   "execution_count": 30,
   "metadata": {},
   "outputs": [
    {
     "data": {
      "text/plain": [
       "ArtistLongitude       62.58\n",
       "ArtistLatitude        62.58\n",
       "Title_y               53.20\n",
       "Artist                53.20\n",
       "ID                    53.20\n",
       "Year_y                53.20\n",
       "Song_Hotness          43.52\n",
       "Artist_Familiarity     0.04\n",
       "Loudness               0.00\n",
       "Track_ID               0.00\n",
       "Artist_Hotness         0.00\n",
       "Danceability           0.00\n",
       "Artist_Terms           0.00\n",
       "Mode                   0.00\n",
       "SongID                 0.00\n",
       "Title_x                0.00\n",
       "Tempo                  0.00\n",
       "KeySignature           0.00\n",
       "ArtistLocation         0.00\n",
       "ArtistID               0.00\n",
       "AlbumName              0.00\n",
       "AlbumID                0.00\n",
       "Year_x                 0.00\n",
       "Duration               0.00\n",
       "ArtistName             0.00\n",
       "TimeSignature          0.00\n",
       "dtype: float64"
      ]
     },
     "execution_count": 30,
     "metadata": {},
     "output_type": "execute_result"
    }
   ],
   "source": [
    "value_null"
   ]
  },
  {
   "cell_type": "code",
   "execution_count": 31,
   "metadata": {},
   "outputs": [],
   "source": [
    "def year_floor(x):\n",
    "    return floor(x / 10)*10"
   ]
  },
  {
   "cell_type": "code",
   "execution_count": 32,
   "metadata": {},
   "outputs": [
    {
     "data": {
      "text/plain": [
       "2010"
      ]
     },
     "execution_count": 32,
     "metadata": {},
     "output_type": "execute_result"
    }
   ],
   "source": [
    "year_floor(2010)"
   ]
  },
  {
   "cell_type": "markdown",
   "metadata": {},
   "source": [
    "## Tempo des musiques"
   ]
  },
  {
   "cell_type": "code",
   "execution_count": 33,
   "metadata": {
    "scrolled": false
   },
   "outputs": [],
   "source": [
    "song_less_year0 = songs[songs['Year']!=0]\n",
    "song_less_year0 = song_less_year0[[\"Year\",\"Tempo\"]]\n",
    "song_less_year0.Year = song_less_year0.Year.apply(lambda x: year_floor(x))"
   ]
  },
  {
   "cell_type": "code",
   "execution_count": 34,
   "metadata": {},
   "outputs": [
    {
     "data": {
      "text/plain": [
       "2000    2543\n",
       "1990    1205\n",
       "1980     439\n",
       "1970     246\n",
       "1960     137\n",
       "2010      64\n",
       "1950      30\n",
       "1930       6\n",
       "1920       6\n",
       "1940       4\n",
       "Name: Year, dtype: int64"
      ]
     },
     "execution_count": 34,
     "metadata": {},
     "output_type": "execute_result"
    }
   ],
   "source": [
    "song_less_year0.Year.value_counts()"
   ]
  },
  {
   "cell_type": "code",
   "execution_count": 35,
   "metadata": {
    "scrolled": true
   },
   "outputs": [
    {
     "data": {
      "text/html": [
       "<div>\n",
       "<style scoped>\n",
       "    .dataframe tbody tr th:only-of-type {\n",
       "        vertical-align: middle;\n",
       "    }\n",
       "\n",
       "    .dataframe tbody tr th {\n",
       "        vertical-align: top;\n",
       "    }\n",
       "\n",
       "    .dataframe thead th {\n",
       "        text-align: right;\n",
       "    }\n",
       "</style>\n",
       "<table border=\"1\" class=\"dataframe\">\n",
       "  <thead>\n",
       "    <tr style=\"text-align: right;\">\n",
       "      <th></th>\n",
       "      <th>Tempo</th>\n",
       "    </tr>\n",
       "    <tr>\n",
       "      <th>Year</th>\n",
       "      <th></th>\n",
       "    </tr>\n",
       "  </thead>\n",
       "  <tbody>\n",
       "    <tr>\n",
       "      <th>1920</th>\n",
       "      <td>118.0</td>\n",
       "    </tr>\n",
       "    <tr>\n",
       "      <th>1930</th>\n",
       "      <td>97.0</td>\n",
       "    </tr>\n",
       "    <tr>\n",
       "      <th>1940</th>\n",
       "      <td>108.0</td>\n",
       "    </tr>\n",
       "    <tr>\n",
       "      <th>1950</th>\n",
       "      <td>116.0</td>\n",
       "    </tr>\n",
       "    <tr>\n",
       "      <th>1960</th>\n",
       "      <td>117.0</td>\n",
       "    </tr>\n",
       "    <tr>\n",
       "      <th>1970</th>\n",
       "      <td>131.0</td>\n",
       "    </tr>\n",
       "    <tr>\n",
       "      <th>1980</th>\n",
       "      <td>126.0</td>\n",
       "    </tr>\n",
       "    <tr>\n",
       "      <th>1990</th>\n",
       "      <td>124.0</td>\n",
       "    </tr>\n",
       "    <tr>\n",
       "      <th>2000</th>\n",
       "      <td>126.0</td>\n",
       "    </tr>\n",
       "    <tr>\n",
       "      <th>2010</th>\n",
       "      <td>119.0</td>\n",
       "    </tr>\n",
       "  </tbody>\n",
       "</table>\n",
       "</div>"
      ],
      "text/plain": [
       "      Tempo\n",
       "Year       \n",
       "1920  118.0\n",
       "1930   97.0\n",
       "1940  108.0\n",
       "1950  116.0\n",
       "1960  117.0\n",
       "1970  131.0\n",
       "1980  126.0\n",
       "1990  124.0\n",
       "2000  126.0\n",
       "2010  119.0"
      ]
     },
     "execution_count": 35,
     "metadata": {},
     "output_type": "execute_result"
    }
   ],
   "source": [
    "song_less_year0.sort_values(by=['Year'], ascending = True, inplace = True)\n",
    "song_less_year0 = song_less_year0.groupby(['Year']).mean()\n",
    "song_less_year0.Tempo = round(song_less_year0.Tempo,0)\n",
    "song_less_year0"
   ]
  },
  {
   "cell_type": "code",
   "execution_count": 36,
   "metadata": {},
   "outputs": [
    {
     "data": {
      "text/plain": [
       "1920"
      ]
     },
     "execution_count": 36,
     "metadata": {},
     "output_type": "execute_result"
    }
   ],
   "source": [
    "song_less_year0.index[0]"
   ]
  },
  {
   "cell_type": "code",
   "execution_count": 37,
   "metadata": {
    "scrolled": false
   },
   "outputs": [
    {
     "data": {
      "image/png": "[encoded data removed]",
      "text/plain": [
       "<Figure size 1080x576 with 1 Axes>"
      ]
     },
     "metadata": {},
     "output_type": "display_data"
    }
   ],
   "source": [
    "sns.set_theme(style=\"whitegrid\")\n",
    "size = sns.set({\"figure.figsize\":(15,8)})\n",
    "sns.lineplot(data=song_less_year0, linewidth=2.5, size = size, palette=['purple'])\n",
    "plt.xticks([1920, 1930, 1940, 1950, 1960, 1970, 1980, 1990, 2000, 2010]);"
   ]
  },
  {
   "cell_type": "code",
   "execution_count": 38,
   "metadata": {
    "scrolled": true
   },
   "outputs": [
    {
     "data": {
      "text/html": [
       "<div>\n",
       "<style scoped>\n",
       "    .dataframe tbody tr th:only-of-type {\n",
       "        vertical-align: middle;\n",
       "    }\n",
       "\n",
       "    .dataframe tbody tr th {\n",
       "        vertical-align: top;\n",
       "    }\n",
       "\n",
       "    .dataframe thead th {\n",
       "        text-align: right;\n",
       "    }\n",
       "</style>\n",
       "<table border=\"1\" class=\"dataframe\">\n",
       "  <thead>\n",
       "    <tr style=\"text-align: right;\">\n",
       "      <th></th>\n",
       "      <th>Tempo</th>\n",
       "    </tr>\n",
       "    <tr>\n",
       "      <th>Year</th>\n",
       "      <th></th>\n",
       "    </tr>\n",
       "  </thead>\n",
       "  <tbody>\n",
       "    <tr>\n",
       "      <th>1920</th>\n",
       "      <td>118.0</td>\n",
       "    </tr>\n",
       "    <tr>\n",
       "      <th>1930</th>\n",
       "      <td>97.0</td>\n",
       "    </tr>\n",
       "    <tr>\n",
       "      <th>1940</th>\n",
       "      <td>108.0</td>\n",
       "    </tr>\n",
       "    <tr>\n",
       "      <th>1950</th>\n",
       "      <td>116.0</td>\n",
       "    </tr>\n",
       "    <tr>\n",
       "      <th>1960</th>\n",
       "      <td>117.0</td>\n",
       "    </tr>\n",
       "    <tr>\n",
       "      <th>1970</th>\n",
       "      <td>131.0</td>\n",
       "    </tr>\n",
       "    <tr>\n",
       "      <th>1980</th>\n",
       "      <td>126.0</td>\n",
       "    </tr>\n",
       "    <tr>\n",
       "      <th>1990</th>\n",
       "      <td>124.0</td>\n",
       "    </tr>\n",
       "    <tr>\n",
       "      <th>2000</th>\n",
       "      <td>126.0</td>\n",
       "    </tr>\n",
       "    <tr>\n",
       "      <th>2010</th>\n",
       "      <td>119.0</td>\n",
       "    </tr>\n",
       "  </tbody>\n",
       "</table>\n",
       "</div>"
      ],
      "text/plain": [
       "      Tempo\n",
       "Year       \n",
       "1920  118.0\n",
       "1930   97.0\n",
       "1940  108.0\n",
       "1950  116.0\n",
       "1960  117.0\n",
       "1970  131.0\n",
       "1980  126.0\n",
       "1990  124.0\n",
       "2000  126.0\n",
       "2010  119.0"
      ]
     },
     "execution_count": 38,
     "metadata": {},
     "output_type": "execute_result"
    }
   ],
   "source": [
    "song_less_year0"
   ]
  },
  {
   "cell_type": "markdown",
   "metadata": {},
   "source": [
    "## Genre des musiques"
   ]
  },
  {
   "cell_type": "code",
   "execution_count": 39,
   "metadata": {},
   "outputs": [
    {
     "ename": "NameError",
     "evalue": "name 'query' is not defined",
     "output_type": "error",
     "traceback": [
      "\u001b[0;31m---------------------------------------------------------------------------\u001b[0m",
      "\u001b[0;31mNameError\u001b[0m                                 Traceback (most recent call last)",
      "\u001b[0;32m/var/folders/zv/bsnwz7hn4cnf8q781vd6sc1w0000gn/T/ipykernel_17451/76260754.py\u001b[0m in \u001b[0;36m<module>\u001b[0;34m\u001b[0m\n\u001b[0;32m----> 1\u001b[0;31m \u001b[0mdf\u001b[0m \u001b[0;34m=\u001b[0m \u001b[0mpd\u001b[0m\u001b[0;34m.\u001b[0m\u001b[0mread_sql\u001b[0m\u001b[0;34m(\u001b[0m\u001b[0mquery\u001b[0m\u001b[0;34m,\u001b[0m \u001b[0mconn\u001b[0m\u001b[0;34m)\u001b[0m\u001b[0;34m\u001b[0m\u001b[0;34m\u001b[0m\u001b[0m\n\u001b[0m\u001b[1;32m      2\u001b[0m \u001b[0mdf\u001b[0m\u001b[0;34m.\u001b[0m\u001b[0mhead\u001b[0m\u001b[0;34m(\u001b[0m\u001b[0;36m50\u001b[0m\u001b[0;34m)\u001b[0m\u001b[0;34m\u001b[0m\u001b[0;34m\u001b[0m\u001b[0m\n",
      "\u001b[0;31mNameError\u001b[0m: name 'query' is not defined"
     ]
    }
   ],
   "source": [
    "df = pd.read_sql(query, conn)\n",
    "df.head(50)"
   ]
  },
  {
   "cell_type": "code",
   "execution_count": null,
   "metadata": {},
   "outputs": [],
   "source": [
    "#récupération des 50 premiers genres\n",
    "filt_df = dict(df.term.value_counts().head(50))\n",
    "genre_list = []\n",
    "[genre_list.append(key) for key in filt_df.keys()]"
   ]
  },
  {
   "cell_type": "code",
   "execution_count": null,
   "metadata": {},
   "outputs": [],
   "source": [
    "## importation des genres pour chaque artiste\n",
    "#extraction à partir du fichier db\n",
    "conn = sqlite3.connect('artist_term.db')\n",
    "query = 'SELECT * from artist_term'\n",
    "df = pd.read_sql(query, conn)\n",
    "\n",
    "#récupération des 50 premiers genres\n",
    "filt_df = dict(df.term.value_counts().head(50))\n",
    "genre_list = []\n",
    "[genre_list.append(key) for key in filt_df.keys()]\n",
    "\n",
    "#nettoyage de cette liste en retirant les genres inutiles\n",
    "remove_list = ['alternative rock', 'united states','alternative', 'experimental', 'indie rock', 'downtempo', 'ambient', 'germany', 'electronica', 'american', 'synthpop', 'world', 'hardcore', 'acoustic', 'breakbeat', 'female vocalist', 'classic rock', 'vocal', 'singer-songwriter', 'folk rock', 'instrumental', 'chill-out', 'dub', 'guitar', 'new wave', 'tech house']\n",
    "\n",
    "[genre_list.remove(genre) for genre in remove_list]\n",
    "\n",
    "genre_list.append('classic')\n",
    "\n",
    "df[\"to_sup\"] = df[\"term\"].apply(lambda x : 1 if x in genre_list else 0)\n",
    "\n",
    "indexNames = df[df['to_sup'] == 0].index\n",
    "df.drop(indexNames , inplace=True)\n",
    "df.drop(columns = \"to_sup\")\n",
    "\n",
    "#groupage de chaque artiste\n",
    "\n",
    "new_df = pd.DataFrame(df.groupby(\"artist_id\")[\"term\"].apply(list))"
   ]
  },
  {
   "cell_type": "code",
   "execution_count": null,
   "metadata": {},
   "outputs": [],
   "source": [
    "df_test = df[df['term']=='funk'].groupby(\"artist_id\").count()\n",
    "df_test"
   ]
  },
  {
   "cell_type": "code",
   "execution_count": null,
   "metadata": {},
   "outputs": [],
   "source": [
    "df_test = df[df['term']=='rock'].groupby(\"artist_id\").count()\n",
    "df_test"
   ]
  },
  {
   "cell_type": "code",
   "execution_count": null,
   "metadata": {
    "scrolled": true
   },
   "outputs": [],
   "source": [
    "new_df.head(50)"
   ]
  },
  {
   "cell_type": "code",
   "execution_count": null,
   "metadata": {},
   "outputs": [],
   "source": [
    "new_df['bool'] = new_df['term'].apply(lambda x : 'jazz' in x)"
   ]
  },
  {
   "cell_type": "code",
   "execution_count": null,
   "metadata": {},
   "outputs": [],
   "source": [
    "new_df.term.explode().nunique()"
   ]
  },
  {
   "cell_type": "code",
   "execution_count": null,
   "metadata": {},
   "outputs": [],
   "source": [
    "pd.DataFrame(new_df['term'].tolist())"
   ]
  },
  {
   "cell_type": "code",
   "execution_count": null,
   "metadata": {},
   "outputs": [],
   "source": [
    "from sklearn.preprocessing import MultiLabelBinarizer"
   ]
  },
  {
   "cell_type": "code",
   "execution_count": null,
   "metadata": {},
   "outputs": [],
   "source": [
    "mlb = MultiLabelBinarizer()\n",
    "mlb.fit(new_df['term'])\n",
    "pd.DataFrame(mlb.transform(new_df['term']),columns=mlb.classes_)"
   ]
  },
  {
   "cell_type": "code",
   "execution_count": null,
   "metadata": {
    "scrolled": true
   },
   "outputs": [],
   "source": [
    "pd.DataFrame(new_df['term'].tolist(),columns=new_df.term.explode().unique())"
   ]
  },
  {
   "cell_type": "code",
   "execution_count": null,
   "metadata": {},
   "outputs": [],
   "source": [
    "new_df_funk = new_df[new_df['term'].isin(['rock','punk','hip hop'])]\n",
    "new_df_funk"
   ]
  },
  {
   "cell_type": "code",
   "execution_count": null,
   "metadata": {},
   "outputs": [],
   "source": [
    "new_song = songs.merge(new_df, how = \"left\", left_on = 'ArtistID', right_on = \"artist_id\")"
   ]
  },
  {
   "cell_type": "code",
   "execution_count": null,
   "metadata": {
    "scrolled": true
   },
   "outputs": [],
   "source": [
    "new_song"
   ]
  },
  {
   "cell_type": "code",
   "execution_count": null,
   "metadata": {
    "scrolled": true
   },
   "outputs": [],
   "source": [
    "term_null = new_song.isnull().sum().sort_values(ascending=False)/len(new_song)*100\n",
    "term_null"
   ]
  },
  {
   "cell_type": "code",
   "execution_count": null,
   "metadata": {},
   "outputs": [],
   "source": [
    "ddd = [new_song.value_counts(\"ArtistID\")]\n",
    "ddd = pd.DataFrame(ddd).transpose()\n",
    "ddd.rename(columns={0: 'nb'}, inplace=True)"
   ]
  },
  {
   "cell_type": "code",
   "execution_count": null,
   "metadata": {},
   "outputs": [],
   "source": [
    "ddd.nb.value_counts()"
   ]
  },
  {
   "cell_type": "code",
   "execution_count": null,
   "metadata": {},
   "outputs": [],
   "source": [
    "# Data Manipulation\n",
    "import numpy as np\n",
    "import pandas as pd\n",
    "pd.set_option('display.max_columns', None)\n",
    "\n",
    "# Data Visualisation\n",
    "import matplotlib.pyplot as plt\n",
    "import seaborn as sns\n",
    "import plotly.express as px\n",
    "\n",
    "# Pipeline and Column Transformers\n",
    "from sklearn.pipeline import Pipeline\n",
    "from sklearn.compose import ColumnTransformer, make_column_selector\n",
    "from sklearn import set_config\n",
    "set_config(display = \"diagram\")\n",
    "\n",
    "# Scaling\n",
    "from sklearn.preprocessing import RobustScaler, StandardScaler, MinMaxScaler\n",
    "\n",
    "# Cross Validation\n",
    "from sklearn.model_selection import cross_validate\n",
    "from sklearn.model_selection import cross_val_predict\n",
    "\n",
    "# Unsupervised Learning\n",
    "from sklearn.decomposition import PCA\n",
    "from sklearn.cluster import KMeans \n",
    "\n",
    "# STATISTICS\n",
    "from statsmodels.graphics.gofplots import qqplot\n",
    "# This function plots your sample against a Normal distribution, \n",
    "# to see whether your sample is normally distributed or not"
   ]
  },
  {
   "cell_type": "code",
   "execution_count": null,
   "metadata": {
    "scrolled": true
   },
   "outputs": [],
   "source": [
    "new_song"
   ]
  },
  {
   "cell_type": "code",
   "execution_count": null,
   "metadata": {},
   "outputs": [],
   "source": [
    "new_song = new_song[[\"Artist_Hotness\",\"Loudness\",\"Tempo\", \"Year\"]]\n",
    "new_song"
   ]
  },
  {
   "cell_type": "code",
   "execution_count": null,
   "metadata": {},
   "outputs": [],
   "source": [
    "new_song = new_song[new_song['Year']!=0]\n",
    "\n",
    "fig = px.scatter_3d(new_song, \n",
    "                    x = 'Artist_Hotness',\n",
    "                    y = 'Loudness',\n",
    "                    z = 'Tempo',\n",
    "                    color = 'Year',\n",
    "                    opacity=0.7, width=1000, height=1000\n",
    "           )\n",
    "fig.show()"
   ]
  },
  {
   "cell_type": "code",
   "execution_count": null,
   "metadata": {},
   "outputs": [],
   "source": [
    "!pwd"
   ]
  },
  {
   "cell_type": "code",
   "execution_count": null,
   "metadata": {},
   "outputs": [],
   "source": [
    "# To upload data, convert them first as tsv format, then click on \"load\" directly from the website\n",
    "spotify_scaled.head(3000).to_csv('Songs.csv', index=False, header=False, sep='\\t')\n",
    "#pd.DataFrame(labels).head(3000).to_csv('our_labels.csv', index=False, header=False, sep='\\t')"
   ]
  },
  {
   "cell_type": "markdown",
   "metadata": {},
   "source": [
    "\n",
    "❓ Upload your spotify dataset and vizualize the PCA and the UMAP version.\n",
    "\n",
    "Also upload your \"custom labels\" determined previously, and \"color by labels\".\n",
    "Does your \"labels\" made from PCA look interesting in the UMAP too ?"
   ]
  },
  {
   "cell_type": "code",
   "execution_count": null,
   "metadata": {},
   "outputs": [],
   "source": [
    "!pwd"
   ]
  },
  {
   "cell_type": "code",
   "execution_count": null,
   "metadata": {},
   "outputs": [],
   "source": []
  }
 ],
 "metadata": {
  "kernelspec": {
   "display_name": "Python 3 (ipykernel)",
   "language": "python",
   "name": "python3"
  },
  "language_info": {
   "codemirror_mode": {
    "name": "ipython",
    "version": 3
   },
   "file_extension": ".py",
   "mimetype": "text/x-python",
   "name": "python",
   "nbconvert_exporter": "python",
   "pygments_lexer": "ipython3",
   "version": "3.8.12"
  },
  "toc": {
   "base_numbering": 1,
   "nav_menu": {},
   "number_sections": true,
   "sideBar": true,
   "skip_h1_title": false,
   "title_cell": "Table of Contents",
   "title_sidebar": "Contents",
   "toc_cell": false,
   "toc_position": {},
   "toc_section_display": true,
   "toc_window_display": false
  },
  "vscode": {
   "interpreter": {
    "hash": "9dc8f5987b7735befbea2cede263282799f6fac522b97774237386a13e336fd5"
   }
  }
 },
 "nbformat": 4,
 "nbformat_minor": 2
}
